{
 "cells": [
  {
   "cell_type": "code",
   "execution_count": 1,
   "metadata": {
    "extensions": {
     "jupyter_dashboards": {
      "version": 1,
      "views": {
       "grid_default": {},
       "report_default": {
        "hidden": true
       }
      }
     }
    }
   },
   "outputs": [],
   "source": [
    "import pandas as pd\n",
    "import numpy as np\n",
    "from palmerpenguins import load_penguins\n",
    "import graphviz\n",
    "from IPython.display import SVG, display\n",
    "import ipywidgets as widgets\n",
    "import matplotlib.pyplot as plt\n",
    "from sklearn.tree import DecisionTreeClassifier\n",
    "from sklearn import tree\n",
    "from graphviz import Source\n",
    "from sklearn.preprocessing import LabelEncoder\n",
    "import matplotlib"
   ]
  },
  {
   "cell_type": "code",
   "execution_count": 2,
   "metadata": {
    "extensions": {
     "jupyter_dashboards": {
      "version": 1,
      "views": {
       "grid_default": {},
       "report_default": {
        "hidden": true
       }
      }
     }
    }
   },
   "outputs": [],
   "source": [
    "penguins_df = load_penguins()\n",
    "penguins_df.head()"
   ]
  },
  {
   "cell_type": "code",
   "execution_count": 3,
   "metadata": {
    "extensions": {
     "jupyter_dashboards": {
      "version": 1,
      "views": {
       "grid_default": {},
       "report_default": {
        "hidden": true
       }
      }
     }
    }
   },
   "outputs": [],
   "source": [
    "penguins_df.dtypes"
   ]
  },
  {
   "cell_type": "code",
   "execution_count": 4,
   "metadata": {
    "extensions": {
     "jupyter_dashboards": {
      "version": 1,
      "views": {
       "grid_default": {},
       "report_default": {
        "hidden": true
       }
      }
     }
    }
   },
   "outputs": [],
   "source": [
    "# Dropping the year variable and the null values\n",
    "penguins_df.drop('year', axis = 1, inplace = True)\n",
    "penguins_df.dropna(inplace = True)\n",
    "penguins_df.head()"
   ]
  },
  {
   "cell_type": "code",
   "execution_count": 5,
   "metadata": {
    "extensions": {
     "jupyter_dashboards": {
      "version": 1,
      "views": {
       "grid_default": {},
       "report_default": {
        "hidden": true
       }
      }
     }
    }
   },
   "outputs": [],
   "source": [
    "#Label Encoding the categorical values in penguins dataset\n",
    "le = LabelEncoder()\n",
    "penguins_df['species'] = le.fit_transform(penguins_df['species'])\n",
    "penguins_df['island'] = le.fit_transform(penguins_df['island'])\n",
    "penguins_df['sex'] = le.fit_transform(penguins_df['sex'])"
   ]
  },
  {
   "cell_type": "code",
   "execution_count": 97,
   "metadata": {},
   "outputs": [
    {
     "data": {
      "text/html": [
       "<div>\n",
       "<style scoped>\n",
       "    .dataframe tbody tr th:only-of-type {\n",
       "        vertical-align: middle;\n",
       "    }\n",
       "\n",
       "    .dataframe tbody tr th {\n",
       "        vertical-align: top;\n",
       "    }\n",
       "\n",
       "    .dataframe thead th {\n",
       "        text-align: right;\n",
       "    }\n",
       "</style>\n",
       "<table border=\"1\" class=\"dataframe\">\n",
       "  <thead>\n",
       "    <tr style=\"text-align: right;\">\n",
       "      <th></th>\n",
       "      <th>species</th>\n",
       "      <th>island</th>\n",
       "      <th>bill_length_mm</th>\n",
       "      <th>bill_depth_mm</th>\n",
       "      <th>flipper_length_mm</th>\n",
       "      <th>body_mass_g</th>\n",
       "      <th>sex</th>\n",
       "    </tr>\n",
       "  </thead>\n",
       "  <tbody>\n",
       "    <tr>\n",
       "      <th>0</th>\n",
       "      <td>0</td>\n",
       "      <td>2</td>\n",
       "      <td>39.1</td>\n",
       "      <td>18.7</td>\n",
       "      <td>181.0</td>\n",
       "      <td>3750.0</td>\n",
       "      <td>1</td>\n",
       "    </tr>\n",
       "    <tr>\n",
       "      <th>1</th>\n",
       "      <td>0</td>\n",
       "      <td>2</td>\n",
       "      <td>39.5</td>\n",
       "      <td>17.4</td>\n",
       "      <td>186.0</td>\n",
       "      <td>3800.0</td>\n",
       "      <td>0</td>\n",
       "    </tr>\n",
       "    <tr>\n",
       "      <th>2</th>\n",
       "      <td>0</td>\n",
       "      <td>2</td>\n",
       "      <td>40.3</td>\n",
       "      <td>18.0</td>\n",
       "      <td>195.0</td>\n",
       "      <td>3250.0</td>\n",
       "      <td>0</td>\n",
       "    </tr>\n",
       "    <tr>\n",
       "      <th>4</th>\n",
       "      <td>0</td>\n",
       "      <td>2</td>\n",
       "      <td>36.7</td>\n",
       "      <td>19.3</td>\n",
       "      <td>193.0</td>\n",
       "      <td>3450.0</td>\n",
       "      <td>0</td>\n",
       "    </tr>\n",
       "    <tr>\n",
       "      <th>5</th>\n",
       "      <td>0</td>\n",
       "      <td>2</td>\n",
       "      <td>39.3</td>\n",
       "      <td>20.6</td>\n",
       "      <td>190.0</td>\n",
       "      <td>3650.0</td>\n",
       "      <td>1</td>\n",
       "    </tr>\n",
       "    <tr>\n",
       "      <th>6</th>\n",
       "      <td>0</td>\n",
       "      <td>2</td>\n",
       "      <td>38.9</td>\n",
       "      <td>17.8</td>\n",
       "      <td>181.0</td>\n",
       "      <td>3625.0</td>\n",
       "      <td>0</td>\n",
       "    </tr>\n",
       "    <tr>\n",
       "      <th>7</th>\n",
       "      <td>0</td>\n",
       "      <td>2</td>\n",
       "      <td>39.2</td>\n",
       "      <td>19.6</td>\n",
       "      <td>195.0</td>\n",
       "      <td>4675.0</td>\n",
       "      <td>1</td>\n",
       "    </tr>\n",
       "    <tr>\n",
       "      <th>12</th>\n",
       "      <td>0</td>\n",
       "      <td>2</td>\n",
       "      <td>41.1</td>\n",
       "      <td>17.6</td>\n",
       "      <td>182.0</td>\n",
       "      <td>3200.0</td>\n",
       "      <td>0</td>\n",
       "    </tr>\n",
       "    <tr>\n",
       "      <th>13</th>\n",
       "      <td>0</td>\n",
       "      <td>2</td>\n",
       "      <td>38.6</td>\n",
       "      <td>21.2</td>\n",
       "      <td>191.0</td>\n",
       "      <td>3800.0</td>\n",
       "      <td>1</td>\n",
       "    </tr>\n",
       "    <tr>\n",
       "      <th>14</th>\n",
       "      <td>0</td>\n",
       "      <td>2</td>\n",
       "      <td>34.6</td>\n",
       "      <td>21.1</td>\n",
       "      <td>198.0</td>\n",
       "      <td>4400.0</td>\n",
       "      <td>1</td>\n",
       "    </tr>\n",
       "  </tbody>\n",
       "</table>\n",
       "</div>"
      ],
      "text/plain": [
       "    species  island  bill_length_mm  bill_depth_mm  flipper_length_mm  \\\n",
       "0         0       2            39.1           18.7              181.0   \n",
       "1         0       2            39.5           17.4              186.0   \n",
       "2         0       2            40.3           18.0              195.0   \n",
       "4         0       2            36.7           19.3              193.0   \n",
       "5         0       2            39.3           20.6              190.0   \n",
       "6         0       2            38.9           17.8              181.0   \n",
       "7         0       2            39.2           19.6              195.0   \n",
       "12        0       2            41.1           17.6              182.0   \n",
       "13        0       2            38.6           21.2              191.0   \n",
       "14        0       2            34.6           21.1              198.0   \n",
       "\n",
       "    body_mass_g  sex  \n",
       "0        3750.0    1  \n",
       "1        3800.0    0  \n",
       "2        3250.0    0  \n",
       "4        3450.0    0  \n",
       "5        3650.0    1  \n",
       "6        3625.0    0  \n",
       "7        4675.0    1  \n",
       "12       3200.0    0  \n",
       "13       3800.0    1  \n",
       "14       4400.0    1  "
      ]
     },
     "execution_count": 97,
     "metadata": {},
     "output_type": "execute_result"
    }
   ],
   "source": [
    "penguins_df.head(10)"
   ]
  },
  {
   "cell_type": "code",
   "execution_count": 6,
   "metadata": {
    "extensions": {
     "jupyter_dashboards": {
      "version": 1,
      "views": {
       "grid_default": {},
       "report_default": {
        "hidden": true
       }
      }
     }
    }
   },
   "outputs": [],
   "source": [
    "#Separating the response and predictors\n",
    "X = penguins_df.drop('species', axis = 1)\n",
    "y = penguins_df['species']"
   ]
  },
  {
   "cell_type": "code",
   "execution_count": 7,
   "metadata": {
    "extensions": {
     "jupyter_dashboards": {
      "version": 1,
      "views": {
       "grid_default": {},
       "report_default": {
        "hidden": true
       }
      }
     }
    }
   },
   "outputs": [
    {
     "data": {
      "text/plain": [
       "array([0.01783828, 0.37885616, 0.05266536, 0.5506402 , 0.        ,\n",
       "       0.        ])"
      ]
     },
     "execution_count": 7,
     "metadata": {},
     "output_type": "execute_result"
    }
   ],
   "source": [
    "#Identifying the important features\n",
    "estimator = DecisionTreeClassifier(criterion = 'gini', max_depth = 3)\n",
    "estimator.fit(X,y)\n",
    "estimator.feature_importances_"
   ]
  },
  {
   "cell_type": "code",
   "execution_count": 8,
   "metadata": {},
   "outputs": [
    {
     "data": {
      "text/plain": [
       "Index(['island', 'bill_length_mm', 'bill_depth_mm', 'flipper_length_mm',\n",
       "       'body_mass_g', 'sex'],\n",
       "      dtype='object')"
      ]
     },
     "execution_count": 8,
     "metadata": {},
     "output_type": "execute_result"
    }
   ],
   "source": [
    "X.columns"
   ]
  },
  {
   "cell_type": "code",
   "execution_count": 9,
   "metadata": {
    "extensions": {
     "jupyter_dashboards": {
      "version": 1,
      "views": {
       "grid_default": {},
       "report_default": {
        "hidden": true
       }
      }
     }
    }
   },
   "outputs": [],
   "source": [
    "#Importing Bank Marketing Dataset\n",
    "bmd = pd.read_csv('D:/[FCO] AppliedAICourse - Applied Machine Learning Course/1.0 CSV files/Bank Marketing Dataset/bank.csv')\n",
    "bmd.head()"
   ]
  },
  {
   "cell_type": "code",
   "execution_count": 112,
   "metadata": {
    "extensions": {
     "jupyter_dashboards": {
      "version": 1,
      "views": {
       "grid_default": {},
       "report_default": {
        "hidden": true
       }
      }
     }
    }
   },
   "outputs": [
    {
     "data": {
      "text/plain": [
       "age          0\n",
       "job          0\n",
       "marital      0\n",
       "education    0\n",
       "default      0\n",
       "balance      0\n",
       "housing      0\n",
       "loan         0\n",
       "contact      0\n",
       "day          0\n",
       "month        0\n",
       "duration     0\n",
       "campaign     0\n",
       "pdays        0\n",
       "previous     0\n",
       "poutcome     0\n",
       "deposit      0\n",
       "dtype: int64"
      ]
     },
     "execution_count": 112,
     "metadata": {},
     "output_type": "execute_result"
    }
   ],
   "source": [
    "bmd.isnull().sum()"
   ]
  },
  {
   "cell_type": "code",
   "execution_count": 113,
   "metadata": {
    "extensions": {
     "jupyter_dashboards": {
      "version": 1,
      "views": {
       "grid_default": {},
       "report_default": {
        "hidden": true
       }
      }
     }
    }
   },
   "outputs": [
    {
     "data": {
      "text/plain": [
       "management       2566\n",
       "blue-collar      1944\n",
       "technician       1823\n",
       "admin.           1334\n",
       "services          923\n",
       "retired           778\n",
       "self-employed     405\n",
       "student           360\n",
       "unemployed        357\n",
       "entrepreneur      328\n",
       "housemaid         274\n",
       "unknown            70\n",
       "Name: job, dtype: int64"
      ]
     },
     "execution_count": 113,
     "metadata": {},
     "output_type": "execute_result"
    }
   ],
   "source": [
    "bmd['job'].value_counts()"
   ]
  },
  {
   "cell_type": "code",
   "execution_count": 114,
   "metadata": {
    "extensions": {
     "jupyter_dashboards": {
      "version": 1,
      "views": {
       "grid_default": {},
       "report_default": {
        "hidden": true
       }
      }
     }
    }
   },
   "outputs": [],
   "source": [
    "bank_data = bmd.copy()"
   ]
  },
  {
   "cell_type": "code",
   "execution_count": 115,
   "metadata": {
    "extensions": {
     "jupyter_dashboards": {
      "version": 1,
      "views": {
       "grid_default": {},
       "report_default": {
        "hidden": true
       }
      }
     }
    }
   },
   "outputs": [],
   "source": [
    "bank_data['job'] = bank_data['job'].replace(['management', 'admin.'], 'white-collar')\n",
    "bank_data['job'] = bank_data['job'].replace(['services','housemaid'], 'pink-collar')\n",
    "bank_data['job'] = bank_data['job'].replace(['retired', 'student', 'unemployed', 'unknown'], 'other')"
   ]
  },
  {
   "cell_type": "code",
   "execution_count": 117,
   "metadata": {
    "extensions": {
     "jupyter_dashboards": {
      "version": 1,
      "views": {
       "grid_default": {},
       "report_default": {
        "hidden": true
       }
      }
     }
    }
   },
   "outputs": [
    {
     "data": {
      "text/plain": [
       "white-collar     3900\n",
       "blue-collar      1944\n",
       "technician       1823\n",
       "other            1565\n",
       "pink-collar      1197\n",
       "self-employed     405\n",
       "entrepreneur      328\n",
       "Name: job, dtype: int64"
      ]
     },
     "execution_count": 117,
     "metadata": {},
     "output_type": "execute_result"
    }
   ],
   "source": [
    "bank_data['job'].value_counts()"
   ]
  },
  {
   "cell_type": "code",
   "execution_count": 118,
   "metadata": {
    "extensions": {
     "jupyter_dashboards": {
      "version": 1,
      "views": {
       "grid_default": {},
       "report_default": {
        "hidden": true
       }
      }
     }
    }
   },
   "outputs": [
    {
     "data": {
      "text/plain": [
       "unknown    8326\n",
       "failure    1228\n",
       "success    1071\n",
       "other       537\n",
       "Name: poutcome, dtype: int64"
      ]
     },
     "execution_count": 118,
     "metadata": {},
     "output_type": "execute_result"
    }
   ],
   "source": [
    "bank_data['poutcome'].value_counts()"
   ]
  },
  {
   "cell_type": "code",
   "execution_count": 119,
   "metadata": {
    "extensions": {
     "jupyter_dashboards": {
      "version": 1,
      "views": {
       "grid_default": {},
       "report_default": {
        "hidden": true
       }
      }
     }
    }
   },
   "outputs": [
    {
     "data": {
      "text/plain": [
       "unknown    8863\n",
       "failure    1228\n",
       "success    1071\n",
       "Name: poutcome, dtype: int64"
      ]
     },
     "execution_count": 119,
     "metadata": {},
     "output_type": "execute_result"
    }
   ],
   "source": [
    "bank_data['poutcome'] = bank_data['poutcome'].replace(['other'] , 'unknown')\n",
    "bank_data.poutcome.value_counts()"
   ]
  },
  {
   "cell_type": "code",
   "execution_count": 18,
   "metadata": {
    "extensions": {
     "jupyter_dashboards": {
      "version": 1,
      "views": {
       "grid_default": {},
       "report_default": {
        "hidden": true
       }
      }
     }
    }
   },
   "outputs": [],
   "source": [
    "bank_data.drop('contact', axis = 1, inplace = True)"
   ]
  },
  {
   "cell_type": "code",
   "execution_count": 120,
   "metadata": {
    "extensions": {
     "jupyter_dashboards": {
      "version": 1,
      "views": {
       "grid_default": {},
       "report_default": {
        "hidden": true
       }
      }
     }
    }
   },
   "outputs": [],
   "source": [
    "#Mapping yes/no values to 1/0\n",
    "bank_data['default_cat'] = bank_data['default'].map( {'yes':1, 'no':0} )\n",
    "bank_data.drop('default', axis=1,inplace = True)"
   ]
  },
  {
   "cell_type": "code",
   "execution_count": 121,
   "metadata": {
    "extensions": {
     "jupyter_dashboards": {
      "version": 1,
      "views": {
       "grid_default": {},
       "report_default": {
        "hidden": true
       }
      }
     }
    }
   },
   "outputs": [],
   "source": [
    "bank_data[\"housing_cat\"]=bank_data['housing'].map({'yes':1, 'no':0})\n",
    "bank_data.drop('housing', axis=1,inplace = True)"
   ]
  },
  {
   "cell_type": "code",
   "execution_count": 122,
   "metadata": {
    "extensions": {
     "jupyter_dashboards": {
      "version": 1,
      "views": {
       "grid_default": {},
       "report_default": {
        "hidden": true
       }
      }
     }
    }
   },
   "outputs": [],
   "source": [
    "bank_data[\"loan_cat\"]=bank_data['loan'].map({'yes':1, 'no':0})\n",
    "bank_data.drop('loan', axis=1,inplace = True)"
   ]
  },
  {
   "cell_type": "code",
   "execution_count": 123,
   "metadata": {
    "extensions": {
     "jupyter_dashboards": {
      "version": 1,
      "views": {
       "grid_default": {},
       "report_default": {
        "hidden": true
       }
      }
     }
    }
   },
   "outputs": [],
   "source": [
    "# day  : last contact day of the month\n",
    "# month: last contact month of year\n",
    "# Drop 'month' and 'day' as they don't have any intrinsic meaning\n",
    "bank_data.drop('month', axis=1, inplace=True)\n",
    "bank_data.drop('day', axis=1, inplace=True)"
   ]
  },
  {
   "cell_type": "code",
   "execution_count": 124,
   "metadata": {
    "extensions": {
     "jupyter_dashboards": {
      "version": 1,
      "views": {
       "grid_default": {},
       "report_default": {
        "hidden": true
       }
      }
     }
    }
   },
   "outputs": [],
   "source": [
    "# values for \"deposit\" : yes/no\n",
    "bank_data[\"deposit_cat\"] = bank_data['deposit'].map({'yes':1, 'no':0})\n",
    "bank_data.drop('deposit', axis=1, inplace=True)"
   ]
  },
  {
   "cell_type": "code",
   "execution_count": 125,
   "metadata": {
    "extensions": {
     "jupyter_dashboards": {
      "version": 1,
      "views": {
       "grid_default": {},
       "report_default": {
        "hidden": true
       }
      }
     }
    }
   },
   "outputs": [],
   "source": [
    "# Map pdays=-1 into a large value (10000 is used) to indicate that it is so far in the past that it has no effect\n",
    "bank_data.loc[bank_data['pdays'] == -1, 'pdays'] = 10000\n",
    "# Create a new column: recent_pdays \n",
    "bank_data['recent_pdays'] = np.where(bank_data['pdays'], 1/bank_data.pdays, 1/bank_data.pdays)\n",
    "\n",
    "# Drop 'pdays'\n",
    "bank_data.drop('pdays', axis=1, inplace = True)"
   ]
  },
  {
   "cell_type": "code",
   "execution_count": 126,
   "metadata": {
    "extensions": {
     "jupyter_dashboards": {
      "version": 1,
      "views": {
       "grid_default": {},
       "report_default": {
        "hidden": true
       }
      }
     }
    }
   },
   "outputs": [],
   "source": [
    "bank_with_dummies = pd.get_dummies(data=bank_data, columns = ['job', 'marital', 'education', 'poutcome'], \\\n",
    "                                   prefix = ['job', 'marital', 'education', 'poutcome'])"
   ]
  },
  {
   "cell_type": "code",
   "execution_count": 98,
   "metadata": {},
   "outputs": [
    {
     "data": {
      "text/html": [
       "<div>\n",
       "<style scoped>\n",
       "    .dataframe tbody tr th:only-of-type {\n",
       "        vertical-align: middle;\n",
       "    }\n",
       "\n",
       "    .dataframe tbody tr th {\n",
       "        vertical-align: top;\n",
       "    }\n",
       "\n",
       "    .dataframe thead th {\n",
       "        text-align: right;\n",
       "    }\n",
       "</style>\n",
       "<table border=\"1\" class=\"dataframe\">\n",
       "  <thead>\n",
       "    <tr style=\"text-align: right;\">\n",
       "      <th></th>\n",
       "      <th>age</th>\n",
       "      <th>balance</th>\n",
       "      <th>duration</th>\n",
       "      <th>campaign</th>\n",
       "      <th>previous</th>\n",
       "      <th>default_cat</th>\n",
       "      <th>housing_cat</th>\n",
       "      <th>loan_cat</th>\n",
       "      <th>deposit_cat</th>\n",
       "      <th>recent_pdays</th>\n",
       "      <th>...</th>\n",
       "      <th>marital_divorced</th>\n",
       "      <th>marital_married</th>\n",
       "      <th>marital_single</th>\n",
       "      <th>education_primary</th>\n",
       "      <th>education_secondary</th>\n",
       "      <th>education_tertiary</th>\n",
       "      <th>education_unknown</th>\n",
       "      <th>poutcome_failure</th>\n",
       "      <th>poutcome_success</th>\n",
       "      <th>poutcome_unknown</th>\n",
       "    </tr>\n",
       "  </thead>\n",
       "  <tbody>\n",
       "    <tr>\n",
       "      <th>0</th>\n",
       "      <td>59</td>\n",
       "      <td>2343</td>\n",
       "      <td>1042</td>\n",
       "      <td>1</td>\n",
       "      <td>0</td>\n",
       "      <td>0</td>\n",
       "      <td>1</td>\n",
       "      <td>0</td>\n",
       "      <td>1</td>\n",
       "      <td>0.0001</td>\n",
       "      <td>...</td>\n",
       "      <td>0</td>\n",
       "      <td>1</td>\n",
       "      <td>0</td>\n",
       "      <td>0</td>\n",
       "      <td>1</td>\n",
       "      <td>0</td>\n",
       "      <td>0</td>\n",
       "      <td>0</td>\n",
       "      <td>0</td>\n",
       "      <td>1</td>\n",
       "    </tr>\n",
       "    <tr>\n",
       "      <th>1</th>\n",
       "      <td>56</td>\n",
       "      <td>45</td>\n",
       "      <td>1467</td>\n",
       "      <td>1</td>\n",
       "      <td>0</td>\n",
       "      <td>0</td>\n",
       "      <td>0</td>\n",
       "      <td>0</td>\n",
       "      <td>1</td>\n",
       "      <td>0.0001</td>\n",
       "      <td>...</td>\n",
       "      <td>0</td>\n",
       "      <td>1</td>\n",
       "      <td>0</td>\n",
       "      <td>0</td>\n",
       "      <td>1</td>\n",
       "      <td>0</td>\n",
       "      <td>0</td>\n",
       "      <td>0</td>\n",
       "      <td>0</td>\n",
       "      <td>1</td>\n",
       "    </tr>\n",
       "    <tr>\n",
       "      <th>2</th>\n",
       "      <td>41</td>\n",
       "      <td>1270</td>\n",
       "      <td>1389</td>\n",
       "      <td>1</td>\n",
       "      <td>0</td>\n",
       "      <td>0</td>\n",
       "      <td>1</td>\n",
       "      <td>0</td>\n",
       "      <td>1</td>\n",
       "      <td>0.0001</td>\n",
       "      <td>...</td>\n",
       "      <td>0</td>\n",
       "      <td>1</td>\n",
       "      <td>0</td>\n",
       "      <td>0</td>\n",
       "      <td>1</td>\n",
       "      <td>0</td>\n",
       "      <td>0</td>\n",
       "      <td>0</td>\n",
       "      <td>0</td>\n",
       "      <td>1</td>\n",
       "    </tr>\n",
       "    <tr>\n",
       "      <th>3</th>\n",
       "      <td>55</td>\n",
       "      <td>2476</td>\n",
       "      <td>579</td>\n",
       "      <td>1</td>\n",
       "      <td>0</td>\n",
       "      <td>0</td>\n",
       "      <td>1</td>\n",
       "      <td>0</td>\n",
       "      <td>1</td>\n",
       "      <td>0.0001</td>\n",
       "      <td>...</td>\n",
       "      <td>0</td>\n",
       "      <td>1</td>\n",
       "      <td>0</td>\n",
       "      <td>0</td>\n",
       "      <td>1</td>\n",
       "      <td>0</td>\n",
       "      <td>0</td>\n",
       "      <td>0</td>\n",
       "      <td>0</td>\n",
       "      <td>1</td>\n",
       "    </tr>\n",
       "    <tr>\n",
       "      <th>4</th>\n",
       "      <td>54</td>\n",
       "      <td>184</td>\n",
       "      <td>673</td>\n",
       "      <td>2</td>\n",
       "      <td>0</td>\n",
       "      <td>0</td>\n",
       "      <td>0</td>\n",
       "      <td>0</td>\n",
       "      <td>1</td>\n",
       "      <td>0.0001</td>\n",
       "      <td>...</td>\n",
       "      <td>0</td>\n",
       "      <td>1</td>\n",
       "      <td>0</td>\n",
       "      <td>0</td>\n",
       "      <td>0</td>\n",
       "      <td>1</td>\n",
       "      <td>0</td>\n",
       "      <td>0</td>\n",
       "      <td>0</td>\n",
       "      <td>1</td>\n",
       "    </tr>\n",
       "    <tr>\n",
       "      <th>5</th>\n",
       "      <td>42</td>\n",
       "      <td>0</td>\n",
       "      <td>562</td>\n",
       "      <td>2</td>\n",
       "      <td>0</td>\n",
       "      <td>0</td>\n",
       "      <td>1</td>\n",
       "      <td>1</td>\n",
       "      <td>1</td>\n",
       "      <td>0.0001</td>\n",
       "      <td>...</td>\n",
       "      <td>0</td>\n",
       "      <td>0</td>\n",
       "      <td>1</td>\n",
       "      <td>0</td>\n",
       "      <td>0</td>\n",
       "      <td>1</td>\n",
       "      <td>0</td>\n",
       "      <td>0</td>\n",
       "      <td>0</td>\n",
       "      <td>1</td>\n",
       "    </tr>\n",
       "    <tr>\n",
       "      <th>6</th>\n",
       "      <td>56</td>\n",
       "      <td>830</td>\n",
       "      <td>1201</td>\n",
       "      <td>1</td>\n",
       "      <td>0</td>\n",
       "      <td>0</td>\n",
       "      <td>1</td>\n",
       "      <td>1</td>\n",
       "      <td>1</td>\n",
       "      <td>0.0001</td>\n",
       "      <td>...</td>\n",
       "      <td>0</td>\n",
       "      <td>1</td>\n",
       "      <td>0</td>\n",
       "      <td>0</td>\n",
       "      <td>0</td>\n",
       "      <td>1</td>\n",
       "      <td>0</td>\n",
       "      <td>0</td>\n",
       "      <td>0</td>\n",
       "      <td>1</td>\n",
       "    </tr>\n",
       "    <tr>\n",
       "      <th>7</th>\n",
       "      <td>60</td>\n",
       "      <td>545</td>\n",
       "      <td>1030</td>\n",
       "      <td>1</td>\n",
       "      <td>0</td>\n",
       "      <td>0</td>\n",
       "      <td>1</td>\n",
       "      <td>0</td>\n",
       "      <td>1</td>\n",
       "      <td>0.0001</td>\n",
       "      <td>...</td>\n",
       "      <td>1</td>\n",
       "      <td>0</td>\n",
       "      <td>0</td>\n",
       "      <td>0</td>\n",
       "      <td>1</td>\n",
       "      <td>0</td>\n",
       "      <td>0</td>\n",
       "      <td>0</td>\n",
       "      <td>0</td>\n",
       "      <td>1</td>\n",
       "    </tr>\n",
       "    <tr>\n",
       "      <th>8</th>\n",
       "      <td>37</td>\n",
       "      <td>1</td>\n",
       "      <td>608</td>\n",
       "      <td>1</td>\n",
       "      <td>0</td>\n",
       "      <td>0</td>\n",
       "      <td>1</td>\n",
       "      <td>0</td>\n",
       "      <td>1</td>\n",
       "      <td>0.0001</td>\n",
       "      <td>...</td>\n",
       "      <td>0</td>\n",
       "      <td>1</td>\n",
       "      <td>0</td>\n",
       "      <td>0</td>\n",
       "      <td>1</td>\n",
       "      <td>0</td>\n",
       "      <td>0</td>\n",
       "      <td>0</td>\n",
       "      <td>0</td>\n",
       "      <td>1</td>\n",
       "    </tr>\n",
       "    <tr>\n",
       "      <th>9</th>\n",
       "      <td>28</td>\n",
       "      <td>5090</td>\n",
       "      <td>1297</td>\n",
       "      <td>3</td>\n",
       "      <td>0</td>\n",
       "      <td>0</td>\n",
       "      <td>1</td>\n",
       "      <td>0</td>\n",
       "      <td>1</td>\n",
       "      <td>0.0001</td>\n",
       "      <td>...</td>\n",
       "      <td>0</td>\n",
       "      <td>0</td>\n",
       "      <td>1</td>\n",
       "      <td>0</td>\n",
       "      <td>1</td>\n",
       "      <td>0</td>\n",
       "      <td>0</td>\n",
       "      <td>0</td>\n",
       "      <td>0</td>\n",
       "      <td>1</td>\n",
       "    </tr>\n",
       "  </tbody>\n",
       "</table>\n",
       "<p>10 rows × 27 columns</p>\n",
       "</div>"
      ],
      "text/plain": [
       "   age  balance  duration  campaign  previous  default_cat  housing_cat  \\\n",
       "0   59     2343      1042         1         0            0            1   \n",
       "1   56       45      1467         1         0            0            0   \n",
       "2   41     1270      1389         1         0            0            1   \n",
       "3   55     2476       579         1         0            0            1   \n",
       "4   54      184       673         2         0            0            0   \n",
       "5   42        0       562         2         0            0            1   \n",
       "6   56      830      1201         1         0            0            1   \n",
       "7   60      545      1030         1         0            0            1   \n",
       "8   37        1       608         1         0            0            1   \n",
       "9   28     5090      1297         3         0            0            1   \n",
       "\n",
       "   loan_cat  deposit_cat  recent_pdays  ...  marital_divorced  \\\n",
       "0         0            1        0.0001  ...                 0   \n",
       "1         0            1        0.0001  ...                 0   \n",
       "2         0            1        0.0001  ...                 0   \n",
       "3         0            1        0.0001  ...                 0   \n",
       "4         0            1        0.0001  ...                 0   \n",
       "5         1            1        0.0001  ...                 0   \n",
       "6         1            1        0.0001  ...                 0   \n",
       "7         0            1        0.0001  ...                 1   \n",
       "8         0            1        0.0001  ...                 0   \n",
       "9         0            1        0.0001  ...                 0   \n",
       "\n",
       "   marital_married  marital_single  education_primary  education_secondary  \\\n",
       "0                1               0                  0                    1   \n",
       "1                1               0                  0                    1   \n",
       "2                1               0                  0                    1   \n",
       "3                1               0                  0                    1   \n",
       "4                1               0                  0                    0   \n",
       "5                0               1                  0                    0   \n",
       "6                1               0                  0                    0   \n",
       "7                0               0                  0                    1   \n",
       "8                1               0                  0                    1   \n",
       "9                0               1                  0                    1   \n",
       "\n",
       "   education_tertiary  education_unknown  poutcome_failure  poutcome_success  \\\n",
       "0                   0                  0                 0                 0   \n",
       "1                   0                  0                 0                 0   \n",
       "2                   0                  0                 0                 0   \n",
       "3                   0                  0                 0                 0   \n",
       "4                   1                  0                 0                 0   \n",
       "5                   1                  0                 0                 0   \n",
       "6                   1                  0                 0                 0   \n",
       "7                   0                  0                 0                 0   \n",
       "8                   0                  0                 0                 0   \n",
       "9                   0                  0                 0                 0   \n",
       "\n",
       "   poutcome_unknown  \n",
       "0                 1  \n",
       "1                 1  \n",
       "2                 1  \n",
       "3                 1  \n",
       "4                 1  \n",
       "5                 1  \n",
       "6                 1  \n",
       "7                 1  \n",
       "8                 1  \n",
       "9                 1  \n",
       "\n",
       "[10 rows x 27 columns]"
      ]
     },
     "execution_count": 98,
     "metadata": {},
     "output_type": "execute_result"
    }
   ],
   "source": [
    "bank_with_dummies.head(10)"
   ]
  },
  {
   "cell_type": "code",
   "execution_count": 26,
   "metadata": {
    "extensions": {
     "jupyter_dashboards": {
      "version": 1,
      "views": {
       "grid_default": {},
       "report_default": {
        "hidden": true
       }
      }
     }
    }
   },
   "outputs": [],
   "source": [
    "X1 = bank_with_dummies.drop('deposit_cat', axis = 1)\n",
    "y1 = bank_with_dummies['deposit_cat']"
   ]
  },
  {
   "cell_type": "code",
   "execution_count": 27,
   "metadata": {
    "extensions": {
     "jupyter_dashboards": {
      "version": 1,
      "views": {
       "grid_default": {},
       "report_default": {
        "hidden": true
       }
      }
     }
    }
   },
   "outputs": [],
   "source": [
    "#Function to plot decision tree\n",
    "def plot_tree(dataset, crit, split, depth, max_feat):\n",
    "    if dataset == 'Penguin':\n",
    "        estimator1 = DecisionTreeClassifier(criterion = crit, splitter = split, max_depth = depth, max_features = max_feat, random_state = 0)\n",
    "        estimator1.fit(X,y)\n",
    "        plt.figure(figsize = (10,8))\n",
    "        graph1 = Source(tree.export_graphviz(estimator1, out_file=None, feature_names=X.columns, class_names=['Adelie', 'Chinstrap', 'Gentoo'], filled = True))\n",
    "   \n",
    "        display(SVG(graph1.pipe(format = 'svg')))\n",
    "        \n",
    "    if dataset == 'Bank Marketing':\n",
    "        estimator2 = DecisionTreeClassifier(criterion = crit, splitter = split, max_depth = depth, max_features = max_feat, random_state = 0)\n",
    "        estimator2.fit(X1,y1)\n",
    "        plt.figure(figsize = (10,8))\n",
    "        graph2 = Source(tree.export_graphviz(estimator2, out_file=None, feature_names=X1.columns, class_names=['No', 'Yes'], filled = True))\n",
    "   \n",
    "        display(SVG(graph2.pipe(format = 'svg')))\n",
    "\n",
    "#Function to plot decision boundary using contours\n",
    "def decision_boundary(dataset, crit, split, depth, max_feat):\n",
    "    if dataset == 'Penguin':\n",
    "        n_classes = 3\n",
    "        plot_colors = \"ryb\"\n",
    "        plot_step = 0.02\n",
    "\n",
    "\n",
    "\n",
    "        for pairidx, pair in enumerate([[1, 2], [1, 3], [2, 3]]):\n",
    "            # We only take the two corresponding features\n",
    "            X_s = X.iloc[:, pair]\n",
    "            y_s = y\n",
    "\n",
    "            # Train\n",
    "            clf = DecisionTreeClassifier(criterion = crit, splitter = split, max_depth = depth, max_features = max_feat).fit(X_s, y_s)\n",
    "\n",
    "            # Plot the decision boundary\n",
    "            plt.subplot(1, 3, pairidx + 1)\n",
    "            \n",
    "\n",
    "            x_min, x_max = X_s.iloc[:, 0].min() - 1, X_s.iloc[:, 0].max() + 1\n",
    "            y_min, y_max = X_s.iloc[:, 1].min() - 1, X_s.iloc[:, 1].max() + 1\n",
    "            xx, yy = np.meshgrid(\n",
    "                np.arange(x_min, x_max, plot_step), np.arange(y_min, y_max, plot_step)\n",
    "            )\n",
    "            plt.tight_layout(h_pad=0.5, w_pad=0.5, pad=2.5)\n",
    "\n",
    "            Z = clf.predict(np.c_[xx.ravel(), yy.ravel()])\n",
    "            Z = Z.reshape(xx.shape)\n",
    "            cs = plt.contourf(xx, yy, Z, cmap=plt.cm.RdYlBu)\n",
    "\n",
    "            plt.xlabel(X.columns[pair[0]])\n",
    "            plt.ylabel(X.columns[pair[1]])\n",
    "\n",
    "            # Plot the training points\n",
    "            for i, color in zip(range(n_classes), plot_colors):\n",
    "                idx = np.where(y == i)\n",
    "                plt.scatter(\n",
    "                    X_s.reindex(index = idx, columns = X_s[X_s.columns[0]]),\n",
    "                    X_s.reindex(index = idx, columns = X_s[X_s.columns[1]]),\n",
    "                    c=color,\n",
    "                    label=i,\n",
    "                    cmap=plt.cm.RdYlBu,\n",
    "                    edgecolor=\"black\",\n",
    "                    s=15,\n",
    "                )\n",
    "\n",
    "        plt.legend(loc=\"lower right\", borderpad=0, handletextpad=0)\n",
    "        plt.axis(\"tight\")\n",
    "        \n",
    "\n",
    "        plt.show()\n",
    "        \n",
    "    if dataset == 'Bank Marketing':\n",
    "        n_classes = 2\n",
    "        plot_colors = \"rb\"\n",
    "        plot_step = 50\n",
    "\n",
    "\n",
    "\n",
    "        for pairidx, pair in enumerate([[1, 2]]):\n",
    "            # We only take the two corresponding features\n",
    "            X_s_1 = X1.iloc[:, pair]\n",
    "            y_s_1 = y1\n",
    "\n",
    "            # Train\n",
    "            clf = DecisionTreeClassifier(criterion = crit, splitter = split, max_depth = depth, max_features = max_feat).fit(X_s_1, y_s_1)\n",
    "\n",
    "            # Plot the decision boundary\n",
    "\n",
    "            x_min, x_max = X_s_1.iloc[:, 0].min() - 1, X_s_1.iloc[:, 0].max() + 1\n",
    "            y_min, y_max = X_s_1.iloc[:, 1].min() - 1, X_s_1.iloc[:, 1].max() + 1\n",
    "            xx, yy = np.meshgrid(\n",
    "                np.arange(x_min, x_max, plot_step), np.arange(y_min, y_max, plot_step)\n",
    "            )\n",
    "            plt.tight_layout(h_pad=0.5, w_pad=0.5, pad=2.5)\n",
    "\n",
    "            Z = clf.predict(np.c_[xx.ravel(), yy.ravel()])\n",
    "            Z = Z.reshape(xx.shape)\n",
    "            cs = plt.contourf(xx, yy, Z, cmap=plt.cm.RdYlBu)\n",
    "\n",
    "            plt.xlabel(X1.columns[pair[0]])\n",
    "            plt.ylabel(X1.columns[pair[1]])\n",
    "\n",
    "            # Plot the training points\n",
    "            for i, color in zip(range(n_classes), plot_colors):\n",
    "                idx = np.where(y == i)\n",
    "                plt.scatter(\n",
    "                    X_s_1.reindex(index = idx, columns = X_s_1[X_s_1.columns[0]]),\n",
    "                    X_s_1.reindex(index = idx, columns = X_s_1[X_s_1.columns[1]]),\n",
    "                    c=color,\n",
    "                    label=i,\n",
    "                    cmap=plt.cm.RdBu,\n",
    "                    edgecolor=\"black\",\n",
    "                    s=15,\n",
    "                )\n",
    "\n",
    "        plt.legend(loc=\"lower right\", borderpad=0, handletextpad=0)\n",
    "        plt.axis('tight')\n",
    "        plt.show()\n",
    "\n",
    "        "
   ]
  },
  {
   "cell_type": "code",
   "execution_count": 101,
   "metadata": {
    "extensions": {
     "jupyter_dashboards": {
      "version": 1,
      "views": {
       "grid_default": {},
       "report_default": {
        "hidden": false
       }
      }
     }
    }
   },
   "outputs": [
    {
     "data": {
      "application/vnd.jupyter.widget-view+json": {
       "model_id": "a7f5b3b3f13549d0a817aa3055e71fbd",
       "version_major": 2,
       "version_minor": 0
      },
      "text/plain": [
       "GridspecLayout(children=(Button(description='Max Depth', layout=Layout(grid_area='widget001'), style=ButtonSty…"
      ]
     },
     "metadata": {},
     "output_type": "display_data"
    }
   ],
   "source": [
    "#Creating a grid\n",
    "grid = widgets.GridspecLayout(50, 70, height = '800px', width = '800px')\n",
    "max_depth = widgets.IntSlider(\n",
    "    value=1,\n",
    "    min=0,\n",
    "    max=10,\n",
    "    step=1,\n",
    "    description='',\n",
    "    disabled=False,\n",
    "    continuous_update=False,\n",
    "    orientation='horizontal',\n",
    "    readout=True,\n",
    "    readout_format='d',\n",
    "    layout= widgets.Layout(width='180px')\n",
    ")\n",
    "grid[3, 0:3] = widgets.Button(description = 'Max Depth', tooltip = 'The maximum depth of the tree. If None, then nodes are expanded until all leaves are pure or until all leaves contain less than min_samples_split samples')\n",
    "grid[4,0:3] = max_depth\n",
    "\n",
    "grid[7, 0:3] = widgets.Button(description = 'Split', tooltip = 'The strategy used to choose the split at each node.')\n",
    "best_split = widgets.Dropdown(\n",
    "    options=['best', 'random'],\n",
    "    value='best',\n",
    "    description='',\n",
    "    disabled=False,\n",
    "    layout= widgets.Layout(width='150px'),\n",
    ")\n",
    "grid[8,0:3] = best_split\n",
    "\n",
    "\n",
    "grid[10, 0:3] = widgets.Button(description = 'Criterion', tooltip = 'The function to measure the quality of a split. Supported criteria are “gini” for the Gini impurity and “entropy” for the information gain.')\n",
    "criterion = widgets.Dropdown(\n",
    "    options=['gini', 'entropy'],\n",
    "    value='gini',\n",
    "    description='',\n",
    "    disabled=False,\n",
    "    layout= widgets.Layout(width='150px')\n",
    ")\n",
    "grid[11,0:3] = criterion\n",
    "\n",
    "grid[13, 0:3] = widgets.Button(description = 'Max Features', tooltip = 'The number of features to consider when looking for the best split')\n",
    "max_features =  widgets.Dropdown(\n",
    "    options=['sqrt', 'log2'],\n",
    "    value='sqrt',\n",
    "    description='',\n",
    "    disabled=False,\n",
    "    layout= widgets.Layout(width='150px')\n",
    ")\n",
    "\n",
    "grid[14,0:3] = max_features\n",
    "\n",
    "grid[16, 0:3] = widgets.Button(description = 'Dataset')\n",
    "dataset =  widgets.Dropdown(\n",
    "    options=['Penguin', 'Bank Marketing'],\n",
    "    value='Penguin',\n",
    "    description='',\n",
    "    disabled=False,\n",
    "    layout= widgets.Layout(width='150px')\n",
    ")\n",
    "\n",
    "grid[17, 0:3] = dataset\n",
    "grid[:26,20:] =  widgets.interactive_output(plot_tree, {'dataset':dataset,\n",
    "                                    'crit': criterion,\n",
    "                                    'split': best_split,\n",
    "                                    'depth': max_depth,\n",
    "                                    'max_feat': max_features})\n",
    "\n",
    "# grid[18, 16:18] = widgets.Button(description = 'Decision Boundary', layout= widgets.Layout(width='210px'))\n",
    "grid[27, 26] = widgets.Button(description = 'Decision Boundary', layout = widgets.Layout(width = '210px'))\n",
    "grid[28:50,15:] =  widgets.interactive_output(decision_boundary, {'dataset':dataset,\n",
    "                                    'crit': criterion,\n",
    "                                    'split': best_split,\n",
    "                                    'depth': max_depth,\n",
    "                                    'max_feat': max_features})\n",
    "grid"
   ]
  },
  {
   "cell_type": "code",
   "execution_count": 110,
   "metadata": {},
   "outputs": [],
   "source": [
    "#Function to plot accuracy\n",
    "def plot_accuracy(X, y, X1, y1):\n",
    "    depth_list_penguins = []\n",
    "    accuracy_list_depth_penguins = []\n",
    "    depth_list_bmd = []\n",
    "    accuracy_list_depth_bmd = []\n",
    "\n",
    "    for max_depth in range(1, 11):\n",
    "        estimator1 = DecisionTreeClassifier(max_depth = max_depth, splitter = 'best', criterion = 'gini', max_features = 'sqrt', random_state = 0).fit(X,y)\n",
    "        accuracy_list_depth_penguins.append(round(estimator1.score(X,y), 2))\n",
    "        depth_list_penguins.append(max_depth)\n",
    "        \n",
    "        estimator2 = DecisionTreeClassifier(max_depth = max_depth, splitter = 'best', criterion = 'gini', max_features = 'sqrt', random_state = 0).fit(X1,y1)\n",
    "        accuracy_list_depth_bmd.append(round(estimator2.score(X1,y1), 2))\n",
    "        depth_list_bmd.append(max_depth)\n",
    "    \n",
    "    plt.figure(figsize = (20,6))\n",
    "    plt.rcParams['axes.facecolor'] = 'white'\n",
    "    plt.subplot(1,2,1)\n",
    "    plt.scatter(depth_list_penguins, accuracy_list_depth_penguins, s = 50, marker = 'o')\n",
    "    plt.plot(depth_list_penguins, accuracy_list_depth_penguins, linewidth = 2, color = 'r')\n",
    "    for i, txt in enumerate(accuracy_list_depth_penguins):\n",
    "        plt.annotate(txt, (depth_list_penguins[i], accuracy_list_depth_penguins[i] + 0.01), color = 'black')\n",
    "    plt.ylim([0.7, 1.05])\n",
    "    plt.grid()\n",
    "    \n",
    "    plt.xlabel('Max Depth', fontweight = 'bold')\n",
    "    plt.ylabel('Accuracy', fontweight = 'bold')\n",
    "    plt.title('Accuracy on the penguins dataset at different levels of depth', fontweight = 'bold')\n",
    "    \n",
    "    plt.subplot(1,2,2)\n",
    "    plt.scatter(depth_list_bmd, accuracy_list_depth_bmd, s = 50, marker = 'o')\n",
    "    plt.plot(depth_list_bmd, accuracy_list_depth_bmd, linewidth = 2, color = 'r')\n",
    "    for i, text in enumerate(accuracy_list_depth_bmd):\n",
    "        plt.annotate(text, (depth_list_bmd[i], accuracy_list_depth_bmd[i] + 0.01), color = 'black')\n",
    "    plt.ylim([0.5, 0.9])\n",
    "    plt.xlabel('Max Depth', fontweight = 'bold')\n",
    "    plt.ylabel('Accuracy', fontweight = 'bold')\n",
    "    plt.title('Accuracy on the bank marketing dataset at different levels of depth', fontweight = 'bold')\n",
    "    plt.grid()"
   ]
  },
  {
   "cell_type": "code",
   "execution_count": 111,
   "metadata": {},
   "outputs": [
    {
     "data": {
      "image/png": "[encoded data removed]",
      "text/plain": [
       "<Figure size 1440x432 with 2 Axes>"
      ]
     },
     "metadata": {
      "needs_background": "light"
     },
     "output_type": "display_data"
    }
   ],
   "source": [
    "plot_accuracy(X,y, X1, y1)"
   ]
  },
  {
   "cell_type": "code",
   "execution_count": null,
   "metadata": {},
   "outputs": [],
   "source": []
  }
 ],
 "metadata": {
  "extensions": {
   "jupyter_dashboards": {
    "activeView": "report_default",
    "version": 1,
    "views": {
     "grid_default": {
      "cellMargin": 10,
      "defaultCellHeight": 20,
      "maxColumns": 12,
      "name": "grid",
      "type": "grid"
     },
     "report_default": {
      "name": "report",
      "type": "report"
     }
    }
   }
  },
  "kernelspec": {
   "display_name": "Python 3 (ipykernel)",
   "language": "python",
   "name": "python3"
  },
  "language_info": {
   "codemirror_mode": {
    "name": "ipython",
    "version": 3
   },
   "file_extension": ".py",
   "mimetype": "text/x-python",
   "name": "python",
   "nbconvert_exporter": "python",
   "pygments_lexer": "ipython3",
   "version": "3.7.4"
  }
 },
 "nbformat": 4,
 "nbformat_minor": 2
}
